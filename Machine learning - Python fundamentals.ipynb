{
 "cells": [
  {
   "cell_type": "markdown",
   "metadata": {},
   "source": [
    "# Python variables\n",
    "\n",
    "* Variable creation and assignment,\n",
    "* Variable type checking,\n",
    "* Assigning single value to multiple variables\n",
    "* Assigning multiple values to multiple variables"
   ]
  },
  {
   "cell_type": "code",
   "execution_count": 3,
   "metadata": {},
   "outputs": [],
   "source": [
    "# Variable creation and assignment\n",
    "a = 20"
   ]
  },
  {
   "cell_type": "code",
   "execution_count": 4,
   "metadata": {},
   "outputs": [
    {
     "name": "stdout",
     "output_type": "stream",
     "text": [
      "20\n"
     ]
    }
   ],
   "source": [
    "print(20)"
   ]
  },
  {
   "cell_type": "code",
   "execution_count": 5,
   "metadata": {},
   "outputs": [
    {
     "data": {
      "text/plain": [
       "int"
      ]
     },
     "execution_count": 5,
     "metadata": {},
     "output_type": "execute_result"
    }
   ],
   "source": [
    "# Variable type checking\n",
    "type(a)"
   ]
  },
  {
   "cell_type": "code",
   "execution_count": 10,
   "metadata": {},
   "outputs": [],
   "source": [
    "# Assigning single value to multiple variables\n",
    "a = b = c = d = 50"
   ]
  },
  {
   "cell_type": "code",
   "execution_count": 11,
   "metadata": {},
   "outputs": [
    {
     "name": "stdout",
     "output_type": "stream",
     "text": [
      "a =  50 b =  50 c =  50 d =  50\n"
     ]
    }
   ],
   "source": [
    "print('a = ', a , 'b = ' , b ,'c = ', c , 'd = ', d)"
   ]
  },
  {
   "cell_type": "code",
   "execution_count": 12,
   "metadata": {},
   "outputs": [],
   "source": [
    "# Assigning multiple values to multiple variables\n",
    "a, b, c, d = 20, 50, 100, 300"
   ]
  },
  {
   "cell_type": "code",
   "execution_count": 13,
   "metadata": {},
   "outputs": [
    {
     "name": "stdout",
     "output_type": "stream",
     "text": [
      "a =  20 b =  50 c =  100 d =  300\n"
     ]
    }
   ],
   "source": [
    "print('a = ', a , 'b = ' , b ,'c = ', c , 'd = ', d)"
   ]
  },
  {
   "cell_type": "markdown",
   "metadata": {},
   "source": [
    "# Python Numeric operations \n",
    "* Basic numeric operations,\n",
    "* Numeric assignment operations\n",
    "* Using math module "
   ]
  },
  {
   "cell_type": "code",
   "execution_count": 14,
   "metadata": {},
   "outputs": [
    {
     "name": "stdout",
     "output_type": "stream",
     "text": [
      "a =  2 b =  4\n"
     ]
    }
   ],
   "source": [
    "# Basic numeric operations – addition, subtraction, multiplication, division, floor division, modulus and exponents.\n",
    "\n",
    "a = 2\n",
    "b = 4\n",
    "print('a = ', a ,'b = ',b)"
   ]
  },
  {
   "cell_type": "code",
   "execution_count": 17,
   "metadata": {},
   "outputs": [
    {
     "name": "stdout",
     "output_type": "stream",
     "text": [
      "Addition =  6\n",
      "Subtraction =  -2\n",
      "Multiplication =  8\n",
      "Division =  0.5\n",
      "Floor division =  0\n",
      "Modulus =  2\n",
      "Exponent =  16\n"
     ]
    }
   ],
   "source": [
    "print('Addition = ',a + b) # Addition\n",
    "print('Subtraction = ',a - b) # Subtraction\n",
    "print('Multiplication = ',a * b) # Multiplication\n",
    "print('Division = ',a / b) # Division\n",
    "print('Floor division = ',a // b) #Floor division\n",
    "print('Modulus = ',a % b) # Modulus\n",
    "print('Exponent = ',a ** b) # Exponent"
   ]
  },
  {
   "cell_type": "code",
   "execution_count": 18,
   "metadata": {},
   "outputs": [
    {
     "name": "stdout",
     "output_type": "stream",
     "text": [
      "a =  3 b =  3\n"
     ]
    }
   ],
   "source": [
    "# Numeric assignment operations - + = , - = , * = , /= etc.,\n",
    "a += 1 # a = a + 1\n",
    "b -= 1 # b = b - 1\n",
    "print('a = ', a ,'b = ',b)"
   ]
  },
  {
   "cell_type": "code",
   "execution_count": 19,
   "metadata": {},
   "outputs": [],
   "source": [
    "# Using math module\n",
    "import math"
   ]
  },
  {
   "cell_type": "code",
   "execution_count": 23,
   "metadata": {},
   "outputs": [
    {
     "data": {
      "text/plain": [
       "1.0986122886681098"
      ]
     },
     "execution_count": 23,
     "metadata": {},
     "output_type": "execute_result"
    }
   ],
   "source": [
    "math.log(a)"
   ]
  },
  {
   "cell_type": "markdown",
   "metadata": {},
   "source": [
    "# Logical operations \n",
    "* Logical operations \n",
    "* Relational operations "
   ]
  },
  {
   "cell_type": "code",
   "execution_count": 24,
   "metadata": {},
   "outputs": [
    {
     "name": "stdout",
     "output_type": "stream",
     "text": [
      "False\n",
      "True\n",
      "True\n"
     ]
    }
   ],
   "source": [
    "# Logical operations - and, or not \n",
    "a = True\n",
    "b = False\n",
    "print(a and b)\n",
    "print(a or b)\n",
    "print(a and not b)"
   ]
  },
  {
   "cell_type": "code",
   "execution_count": 29,
   "metadata": {},
   "outputs": [
    {
     "name": "stdout",
     "output_type": "stream",
     "text": [
      "False\n",
      "True\n",
      "False\n",
      "True\n",
      "True\n"
     ]
    }
   ],
   "source": [
    "# Relational operations - <, >, <=, >=, !=\n",
    "a = 5\n",
    "b = 2\n",
    "print( a < b )\n",
    "print( a > b )\n",
    "print( a <= b )\n",
    "print( a >= b )\n",
    "print( a != b )"
   ]
  },
  {
   "cell_type": "markdown",
   "metadata": {},
   "source": [
    "# Looping\n",
    "* if else loop\n",
    "* if elif else loop\n",
    "* Example: Find the smallest number out of 3 values\n",
    "* for loop"
   ]
  },
  {
   "cell_type": "code",
   "execution_count": 32,
   "metadata": {},
   "outputs": [
    {
     "name": "stdout",
     "output_type": "stream",
     "text": [
      "Hi, Enter a number 10\n",
      "Accept\n"
     ]
    }
   ],
   "source": [
    "# if else loop\n",
    "a = int(input('Hi, Enter a number '))\n",
    "\n",
    "if a > 0:\n",
    "    print('Accept')\n",
    "else:\n",
    "    print('Reject')"
   ]
  },
  {
   "cell_type": "code",
   "execution_count": 37,
   "metadata": {},
   "outputs": [
    {
     "name": "stdout",
     "output_type": "stream",
     "text": [
      "Hi, Enter a number 10\n",
      "Accept\n"
     ]
    }
   ],
   "source": [
    "# if elif else loop\n",
    "a = int(input('Hi, Enter a number '))\n",
    "\n",
    "if a > 0:\n",
    "    print('Accept')\n",
    "elif a == 0:\n",
    "    print('Re- enter the number')\n",
    "else:\n",
    "    print('Reject')"
   ]
  },
  {
   "cell_type": "code",
   "execution_count": 39,
   "metadata": {},
   "outputs": [
    {
     "name": "stdout",
     "output_type": "stream",
     "text": [
      "Smallest value among three values is 4\n"
     ]
    }
   ],
   "source": [
    "#Example: Find the smallest number out of 3 values\n",
    "a = 10\n",
    "b = 4\n",
    "c = 20\n",
    "small_val = 0\n",
    "\n",
    "if a < b and a < c:\n",
    "    small_val = a\n",
    "elif b < a and b < c:\n",
    "    small_val = b\n",
    "else:\n",
    "    small_val = c\n",
    "    \n",
    "print('Smallest value among three values is {}'.format(small_val))"
   ]
  },
  {
   "cell_type": "code",
   "execution_count": 59,
   "metadata": {},
   "outputs": [
    {
     "name": "stdout",
     "output_type": "stream",
     "text": [
      "*\n",
      "**\n",
      "***\n",
      "****\n",
      "*****\n",
      "****\n",
      "***\n",
      "**\n",
      "*\n"
     ]
    }
   ],
   "source": [
    "# for loop - build tilted triange\n",
    "stn = ''\n",
    "for i in range(0, 9):\n",
    "    if i < 5:\n",
    "        stn += '*'\n",
    "        print(stn)\n",
    "    elif (i > 4):\n",
    "        stn = stn[:-1]\n",
    "        print(stn)"
   ]
  },
  {
   "cell_type": "markdown",
   "metadata": {},
   "source": [
    "# Functions\n",
    "* User defined functions\n",
    "* lambda functions"
   ]
  },
  {
   "cell_type": "code",
   "execution_count": 69,
   "metadata": {},
   "outputs": [
    {
     "name": "stdout",
     "output_type": "stream",
     "text": [
      "100\n"
     ]
    }
   ],
   "source": [
    "# User defined function\n",
    "def multiply(n):\n",
    "    \"\"\"\n",
    "    function to multiply number with same number\n",
    "    \"\"\"\n",
    "    return n * n\n",
    "\n",
    "print(multiply(10))"
   ]
  },
  {
   "cell_type": "code",
   "execution_count": 70,
   "metadata": {},
   "outputs": [
    {
     "name": "stdout",
     "output_type": "stream",
     "text": [
      "\n",
      "    function to multiply number with same number\n",
      "    \n"
     ]
    }
   ],
   "source": [
    "print(multiply.__doc__)"
   ]
  },
  {
   "cell_type": "code",
   "execution_count": 71,
   "metadata": {},
   "outputs": [
    {
     "name": "stdout",
     "output_type": "stream",
     "text": [
      "100\n"
     ]
    }
   ],
   "source": [
    "# lambda function\n",
    "multiply = lambda x: x * x\n",
    "print(multiply(10))"
   ]
  },
  {
   "cell_type": "markdown",
   "metadata": {},
   "source": [
    "# String manipulations\n",
    "* String manipulations - len(), count()\n",
    "* Case conversions - upper(), lower(), capitalize()\n",
    "* Padding functions – rstrip(), lstrip()\n",
    "* String slicing - [start:end:step]"
   ]
  },
  {
   "cell_type": "code",
   "execution_count": 79,
   "metadata": {},
   "outputs": [],
   "source": [
    "# String manipulations - len(), count()\n",
    "name = 'Hello!, my name is Manohar'"
   ]
  },
  {
   "cell_type": "code",
   "execution_count": 80,
   "metadata": {},
   "outputs": [
    {
     "data": {
      "text/plain": [
       "26"
      ]
     },
     "execution_count": 80,
     "metadata": {},
     "output_type": "execute_result"
    }
   ],
   "source": [
    "len(name)"
   ]
  },
  {
   "cell_type": "code",
   "execution_count": 81,
   "metadata": {},
   "outputs": [
    {
     "data": {
      "text/plain": [
       "2"
      ]
     },
     "execution_count": 81,
     "metadata": {},
     "output_type": "execute_result"
    }
   ],
   "source": [
    "name.count('m',0, -1)"
   ]
  },
  {
   "cell_type": "code",
   "execution_count": 84,
   "metadata": {},
   "outputs": [
    {
     "name": "stdout",
     "output_type": "stream",
     "text": [
      "HELLO!, MY NAME IS MANOHAR\n",
      "hello!, my name is manohar\n",
      "Hello!, my name is manohar\n"
     ]
    }
   ],
   "source": [
    "# Case conversions - upper(), lower(), capitalize()\n",
    "print(name.upper())\n",
    "print(name.lower())\n",
    "print(name.capitalize())"
   ]
  },
  {
   "cell_type": "code",
   "execution_count": 88,
   "metadata": {},
   "outputs": [
    {
     "name": "stdout",
     "output_type": "stream",
     "text": [
      "     Hi to world of machine learning techniques            58\n",
      "     Hi to world of machine learning techniques 47\n"
     ]
    }
   ],
   "source": [
    "# Padding functions – rstrip()\n",
    "text = '     Hi to world of machine learning techniques           '\n",
    "print(text, len(text))\n",
    "print(text.rstrip(), len(text.rstrip()))"
   ]
  },
  {
   "cell_type": "code",
   "execution_count": 89,
   "metadata": {},
   "outputs": [
    {
     "name": "stdout",
     "output_type": "stream",
     "text": [
      "     Hi to world of machine learning techniques            58\n",
      "Hi to world of machine learning techniques            53\n"
     ]
    }
   ],
   "source": [
    "# Padding functions – lstrip()\n",
    "text = '     Hi to world of machine learning techniques           '\n",
    "print(text, len(text))\n",
    "print(text.lstrip(), len(text.lstrip()))"
   ]
  },
  {
   "cell_type": "code",
   "execution_count": 93,
   "metadata": {},
   "outputs": [
    {
     "name": "stdout",
     "output_type": "stream",
     "text": [
      "achine Le\n",
      "Machine Le\n",
      "Machine Learnin\n",
      "Machine Learning\n",
      "McieL\n"
     ]
    }
   ],
   "source": [
    "# String slicing - [start:end:step_size]\n",
    "topic = 'Machine Learning'\n",
    "print(topic[1:10])\n",
    "print(topic[:10])\n",
    "print(topic[:-1])\n",
    "print(topic[:])\n",
    "print(topic[:10:2])"
   ]
  },
  {
   "cell_type": "markdown",
   "metadata": {},
   "source": [
    "# Python Data structures \n",
    "* List\n",
    "    * List creation \n",
    "    * Accessing elements\n",
    "    * List manipulations – append, insert, pop, remove\n",
    "    \n",
    "      Note:\n",
    "      Lists share the values when we assign to another list, which means  any changes to one list in turn impacts the other list       as well. copy() method to resolve\n",
    "    * In-build methods – len, sorted, min, max etc.,\n",
    "    * Composite lists"
   ]
  },
  {
   "cell_type": "code",
   "execution_count": 1,
   "metadata": {},
   "outputs": [
    {
     "name": "stdout",
     "output_type": "stream",
     "text": [
      "<class 'list'>\n",
      "[]\n"
     ]
    }
   ],
   "source": [
    "# List\n",
    "# List creation\n",
    "a = []\n",
    "print(type(a))\n",
    "print(a)"
   ]
  },
  {
   "cell_type": "code",
   "execution_count": 2,
   "metadata": {},
   "outputs": [
    {
     "name": "stdout",
     "output_type": "stream",
     "text": [
      "['Hadoop developer', 'Hadoop admin', 'Machine learning scientist', 'Data scientist']\n",
      "************************************************************************************\n",
      "Hadoop developer\n",
      "Hadoop admin\n",
      "Machine learning scientist\n",
      "Data scientist\n"
     ]
    }
   ],
   "source": [
    "jobs = ['Hadoop developer','Hadoop admin','Machine learning scientist','Data scientist']\n",
    "print(jobs)\n",
    "print('************************************************************************************')\n",
    "for i in jobs:\n",
    "    print(i)"
   ]
  },
  {
   "cell_type": "code",
   "execution_count": 3,
   "metadata": {},
   "outputs": [
    {
     "name": "stdout",
     "output_type": "stream",
     "text": [
      "['Hadoop developer', 'Hadoop admin']\n"
     ]
    }
   ],
   "source": [
    "# Accessing elements - [start:end:step]\n",
    "print(jobs[:2])"
   ]
  },
  {
   "cell_type": "code",
   "execution_count": 4,
   "metadata": {},
   "outputs": [
    {
     "name": "stdout",
     "output_type": "stream",
     "text": [
      "['Machine learning scientist']\n",
      "Data scientist\n"
     ]
    }
   ],
   "source": [
    "print(jobs[2:-1])\n",
    "print(jobs[-1])"
   ]
  },
  {
   "cell_type": "code",
   "execution_count": 5,
   "metadata": {},
   "outputs": [
    {
     "name": "stdout",
     "output_type": "stream",
     "text": [
      "['Hadoop developer', 'Hadoop admin', 'Machine learning scientist', 'Data scientist']\n"
     ]
    }
   ],
   "source": [
    "# List manipulations – append value at the end\n",
    "print(jobs)"
   ]
  },
  {
   "cell_type": "code",
   "execution_count": 6,
   "metadata": {},
   "outputs": [
    {
     "name": "stdout",
     "output_type": "stream",
     "text": [
      "['Hadoop developer', 'Hadoop admin', 'Machine learning scientist', 'Data scientist', 'AI']\n"
     ]
    }
   ],
   "source": [
    "jobs.append('AI')\n",
    "print(jobs)"
   ]
  },
  {
   "cell_type": "code",
   "execution_count": 7,
   "metadata": {},
   "outputs": [
    {
     "name": "stdout",
     "output_type": "stream",
     "text": [
      "['Web developer', 'Hadoop developer', 'Hadoop admin', 'Machine learning scientist', 'Data scientist', 'AI']\n"
     ]
    }
   ],
   "source": [
    "# List manipulations – insert value at the specified index/position\n",
    "jobs.insert(0, 'Web developer')\n",
    "print(jobs)"
   ]
  },
  {
   "cell_type": "code",
   "execution_count": 8,
   "metadata": {},
   "outputs": [
    {
     "data": {
      "text/plain": [
       "'Web developer'"
      ]
     },
     "execution_count": 8,
     "metadata": {},
     "output_type": "execute_result"
    }
   ],
   "source": [
    "# List manipulations – pop method returns the value which is removed\n",
    "jobs.pop(0)"
   ]
  },
  {
   "cell_type": "code",
   "execution_count": 9,
   "metadata": {},
   "outputs": [
    {
     "name": "stdout",
     "output_type": "stream",
     "text": [
      "['Hadoop developer', 'Hadoop admin', 'Machine learning scientist', 'Data scientist', 'AI']\n"
     ]
    }
   ],
   "source": [
    "print(jobs)"
   ]
  },
  {
   "cell_type": "code",
   "execution_count": 10,
   "metadata": {},
   "outputs": [],
   "source": [
    "# List manipulations – remove method will not return the value which is removed.\n",
    "jobs.remove('Hadoop admin')"
   ]
  },
  {
   "cell_type": "code",
   "execution_count": 11,
   "metadata": {},
   "outputs": [
    {
     "name": "stdout",
     "output_type": "stream",
     "text": [
      "['Hadoop developer', 'Machine learning scientist', 'Data scientist', 'AI']\n"
     ]
    }
   ],
   "source": [
    "print(jobs)"
   ]
  },
  {
   "cell_type": "code",
   "execution_count": 13,
   "metadata": {},
   "outputs": [
    {
     "name": "stdout",
     "output_type": "stream",
     "text": [
      "['Hadoop developer', 'Machine learning scientist', 'Data scientist', 'AI']\n"
     ]
    }
   ],
   "source": [
    "# Note: Lists share the values when we assign to another list, \n",
    "# which means  any changes to one list in turn impacts the other list as well.\n",
    "print(jobs)"
   ]
  },
  {
   "cell_type": "code",
   "execution_count": 20,
   "metadata": {},
   "outputs": [
    {
     "name": "stdout",
     "output_type": "stream",
     "text": [
      "['Hadoop developer', 'Machine learning scientist', 'Data scientist', 'AI', 'web developer']\n"
     ]
    }
   ],
   "source": [
    "jobs.append('web developer')\n",
    "new_jobs = jobs\n",
    "print(new_jobs)"
   ]
  },
  {
   "cell_type": "code",
   "execution_count": 21,
   "metadata": {},
   "outputs": [],
   "source": [
    "jobs.remove('web developer')"
   ]
  },
  {
   "cell_type": "code",
   "execution_count": 23,
   "metadata": {},
   "outputs": [
    {
     "name": "stdout",
     "output_type": "stream",
     "text": [
      "['Hadoop developer', 'Machine learning scientist', 'Data scientist', 'AI']\n"
     ]
    }
   ],
   "source": [
    "print(new_jobs) # ==> Miss - leading it making impact to the new list as well."
   ]
  },
  {
   "cell_type": "code",
   "execution_count": 25,
   "metadata": {},
   "outputs": [
    {
     "name": "stdout",
     "output_type": "stream",
     "text": [
      "['Hadoop developer', 'Machine learning scientist', 'Data scientist', 'AI']\n"
     ]
    }
   ],
   "source": [
    "# To avoid using same memory address, we should use copy() method\n",
    "new_jobs1 = jobs.copy()\n",
    "print(new_jobs1)"
   ]
  },
  {
   "cell_type": "code",
   "execution_count": 26,
   "metadata": {},
   "outputs": [
    {
     "name": "stdout",
     "output_type": "stream",
     "text": [
      "4\n",
      "1\n",
      "83\n"
     ]
    }
   ],
   "source": [
    "# In-build methods – len, sorted, min, max etc.,\n",
    "print(len(jobs))\n",
    "numbers = [1,2,4,5,67,83,46,4]\n",
    "print(min(numbers))\n",
    "print(max(numbers))"
   ]
  },
  {
   "cell_type": "code",
   "execution_count": 27,
   "metadata": {},
   "outputs": [],
   "source": [
    "# Composite lists - multiple lists within a list\n",
    "c_list = [ [1,2,5],\n",
    "          [4,3,2],\n",
    "          [5,3,1] ]"
   ]
  },
  {
   "cell_type": "code",
   "execution_count": 28,
   "metadata": {},
   "outputs": [
    {
     "name": "stdout",
     "output_type": "stream",
     "text": [
      "[[1, 2, 5], [4, 3, 2], [5, 3, 1]]\n"
     ]
    }
   ],
   "source": [
    "print(c_list)"
   ]
  },
  {
   "cell_type": "code",
   "execution_count": 31,
   "metadata": {},
   "outputs": [
    {
     "data": {
      "text/plain": [
       "2"
      ]
     },
     "execution_count": 31,
     "metadata": {},
     "output_type": "execute_result"
    }
   ],
   "source": [
    "c_list[0][1]   # 1 st row, 2nd column value"
   ]
  },
  {
   "cell_type": "code",
   "execution_count": null,
   "metadata": {},
   "outputs": [],
   "source": []
  }
 ],
 "metadata": {
  "kernelspec": {
   "display_name": "Python 3",
   "language": "python",
   "name": "python3"
  },
  "language_info": {
   "codemirror_mode": {
    "name": "ipython",
    "version": 3
   },
   "file_extension": ".py",
   "mimetype": "text/x-python",
   "name": "python",
   "nbconvert_exporter": "python",
   "pygments_lexer": "ipython3",
   "version": "3.6.6"
  }
 },
 "nbformat": 4,
 "nbformat_minor": 2
}
