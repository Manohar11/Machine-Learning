{
 "cells": [
  {
   "cell_type": "code",
   "execution_count": 1,
   "metadata": {},
   "outputs": [
    {
     "name": "stdout",
     "output_type": "stream",
     "text": [
      "<<START>> 1)Data pre-processing step <<START>>\n",
      "<<START>> i)Import the necessary libraries <<START>>\n",
      "<<END>> Import the necessary libraries <<END>>\n",
      "<<START>> Import the dataset <<START>> \n",
      "<<END>> Import the dataset <<END>> \n",
      "<<END>> 1)Data pre-processing step <<END>>\n"
     ]
    }
   ],
   "source": [
    "print(\"<<START>> 1)Data pre-processing step <<START>>\")\n",
    "\n",
    "#**********Import the necessary libraries**********\n",
    "print(\"<<START>> i)Import the necessary libraries <<START>>\")\n",
    "import numpy as np\n",
    "import matplotlib.pyplot as plt\n",
    "import pandas as pd\n",
    "import warnings\n",
    "warnings.filterwarnings(\"ignore\")\n",
    "\n",
    "#**********Linear classification model - SVM Linear**********\n",
    "from sklearn.svm import SVC\n",
    "\n",
    "from sklearn.preprocessing import LabelEncoder\n",
    "from sklearn.model_selection import train_test_split\n",
    "from sklearn.decomposition import PCA\n",
    "from sklearn.metrics import confusion_matrix\n",
    "from sklearn.metrics import classification_report\n",
    "from sklearn.model_selection import cross_val_score\n",
    "from sklearn.model_selection import GridSearchCV\n",
    "from matplotlib.colors import ListedColormap\n",
    "print(\"<<END>> Import the necessary libraries <<END>>\")\n",
    "\n",
    "#**********Import the dataset**********\n",
    "print(\"<<START>> Import the dataset <<START>> \")\n",
    "url=\"https://raw.githubusercontent.com/Manohar11/Machine-Learning/master/Classification%20models/Datasets/iris.data\"\n",
    "headers = ['sepal_length', 'sepal width', 'petal length','petal width', 'class']\n",
    "dataset=pd.read_csv(url, sep= \",\", header= None, names = headers, index_col= False)\n",
    "\n",
    "#**********Matrix of features - Independent variables**********\n",
    "X = dataset[['sepal_length', 'sepal width', 'petal length','petal width']]\n",
    "\n",
    "#**********Dependent variable**********\n",
    "y = dataset['class']\n",
    "print(\"<<END>> Import the dataset <<END>> \")\n",
    "\n",
    "#**********Handling the missing values**********\n",
    "dataset.isnull().any()\n",
    "\n",
    "#**********Handling the categorical data**********\n",
    "# No categoricals on Independent Variables\n",
    "\n",
    "# Exist categorical data on dependent variable\n",
    "labelENC_y = LabelEncoder()\n",
    "y[:] = labelENC_y.fit_transform(y[:])\n",
    "\n",
    "#**********Splitting the dataset into the Training set and Test set**********\n",
    "X_train, X_test, y_train, y_test = train_test_split(X, y, test_size=0.25, random_state=0)\n",
    "\n",
    "#**********Feature scaling**********\n",
    "#*** Features are in scaled and some of the algorithms can handle internally\n",
    "\n",
    "print(\"<<END>> 1)Data pre-processing step <<END>>\")"
   ]
  },
  {
   "cell_type": "code",
   "execution_count": 2,
   "metadata": {},
   "outputs": [
    {
     "name": "stdout",
     "output_type": "stream",
     "text": [
      "<<START>> 2)Applying PCA step <<START>>\n",
      "PCA Explained variance = [0.92742408 0.05243402]\n",
      "<<END>> 2)Applying PCA step <<END>>\n"
     ]
    }
   ],
   "source": [
    "print(\"<<START>> 2)Applying PCA step <<START>>\")\n",
    "\n",
    "#**********Applying PCA**********\n",
    "pca = PCA(n_components = 2)\n",
    "X_train = pca.fit_transform(X_train)\n",
    "X_test = pca.transform(X_test)\n",
    "explained_variance = pca.explained_variance_ratio_\n",
    "print(\"PCA Explained variance =\", explained_variance)\n",
    "\n",
    "print(\"<<END>> 2)Applying PCA step <<END>>\")"
   ]
  },
  {
   "cell_type": "code",
   "execution_count": 3,
   "metadata": {},
   "outputs": [
    {
     "name": "stdout",
     "output_type": "stream",
     "text": [
      "<<START>> 3)Fitting machine learning model <<START>>\n",
      "Fitting the training dataset using 'Support Vector Machine' model\n",
      "<<END>> 3)Fitting machine learning model <<END>>\n"
     ]
    }
   ],
   "source": [
    "print(\"<<START>> 3)Fitting machine learning model <<START>>\")\n",
    "\n",
    "#**********Fitting machine learning model to the Training set**********\n",
    "model = SVC(C = 1.0, kernel=\"rbf\", gamma=\"auto\")\n",
    "print(\"Fitting the training dataset using '{}' model\".format(\"Support Vector Machine\"))\n",
    "classifier = model\n",
    "classifier.fit(X_train, y_train)\n",
    "\n",
    "print(\"<<END>> 3)Fitting machine learning model <<END>>\")"
   ]
  },
  {
   "cell_type": "code",
   "execution_count": 4,
   "metadata": {},
   "outputs": [
    {
     "name": "stdout",
     "output_type": "stream",
     "text": [
      "<<START>> 4)Evaluating model performance <<START>>\n",
      "Confusion matrix [[13  0  0]\n",
      " [ 0 15  1]\n",
      " [ 0  0  9]]\n",
      "             precision    recall  f1-score   support\n",
      "\n",
      "     setosa       1.00      1.00      1.00        13\n",
      " versicolor       1.00      0.94      0.97        16\n",
      "  virginica       0.90      1.00      0.95         9\n",
      "\n",
      "avg / total       0.98      0.97      0.97        38\n",
      "\n",
      "<<END>> 4)Evaluating model performance <<END>>\n"
     ]
    }
   ],
   "source": [
    "print(\"<<START>> 4)Evaluating model performance <<START>>\")\n",
    "\n",
    "#**********Predicting the Test set results**********\n",
    "y_pred = classifier.predict(X_test)\n",
    "\n",
    "#**********Making the Confusion Matrix**********\n",
    "cm = confusion_matrix(y_test, y_pred)\n",
    "print(\"Confusion matrix\",cm)\n",
    "\n",
    "#**********Retrieving classification report**********\n",
    "print(classification_report(y_test, y_pred,target_names=['setosa', 'versicolor', 'virginica']))\n",
    "\n",
    "print(\"<<END>> 4)Evaluating model performance <<END>>\")"
   ]
  },
  {
   "cell_type": "code",
   "execution_count": 5,
   "metadata": {},
   "outputs": [
    {
     "name": "stdout",
     "output_type": "stream",
     "text": [
      "<<START>> 5)Applying k-Fold Cross Validation <<START>>\n",
      "K-Fold cross validation accuracy mean =  0.9616666666666667\n",
      "K-Fold cross validation accuracy std =  0.09069178573608527\n",
      "<<END>> 5)Applying k-Fold Cross Validation <<END>>\n"
     ]
    }
   ],
   "source": [
    "print(\"<<START>> 5)Applying k-Fold Cross Validation <<START>>\")\n",
    "\n",
    "#**********Applying k-Fold Cross Validation**********\n",
    "accuracies = cross_val_score(estimator = classifier, X = X_train, y = y_train, cv = 10)\n",
    "print(\"K-Fold cross validation accuracy mean = \",accuracies.mean())\n",
    "print(\"K-Fold cross validation accuracy std = \",accuracies.std())\n",
    "\n",
    "print(\"<<END>> 5)Applying k-Fold Cross Validation <<END>>\")"
   ]
  },
  {
   "cell_type": "code",
   "execution_count": 6,
   "metadata": {},
   "outputs": [
    {
     "name": "stdout",
     "output_type": "stream",
     "text": [
      "<<START>> 6)Applying Grid Search <<START>>\n",
      "K- FOLD Best accuracy =  0.9642857142857143\n",
      "K- FOLD Best parameters =  {'C': 0.1, 'kernel': 'linear'}\n",
      "<<END>> 6)Applying Grid Search <<END>>\n"
     ]
    }
   ],
   "source": [
    "print(\"<<START>> 6)Applying Grid Search <<START>>\")\n",
    "\n",
    "#**********Applying Grid Search to find the best model and the best parameters**********\n",
    "classifier1 = SVC()\n",
    "parameters = [{\"C\": [0.1, 1, 10, 100, 1000], \"kernel\": ['linear', 'poly', 'rbf', 'sigmoid']}]\n",
    "grid_search = GridSearchCV(estimator = classifier1,\n",
    "                           param_grid = parameters,\n",
    "                           scoring = 'accuracy',\n",
    "                           cv = 10)\t\t\t\t\t   \n",
    "grid_search = grid_search.fit(X_train, y_train)\n",
    "best_accuracy = grid_search.best_score_\n",
    "print(\"K- FOLD Best accuracy = \", best_accuracy)\n",
    "best_parameters = grid_search.best_params_\n",
    "print(\"K- FOLD Best parameters = \", best_parameters)\n",
    "\n",
    "print(\"<<END>> 6)Applying Grid Search <<END>>\")"
   ]
  },
  {
   "cell_type": "code",
   "execution_count": 7,
   "metadata": {},
   "outputs": [
    {
     "name": "stdout",
     "output_type": "stream",
     "text": [
      "<<START>> 7)Visualizing the Test set results <<START>>\n"
     ]
    },
    {
     "data": {
      "image/png": "[encoded data removed]",
      "text/plain": [
       "<Figure size 432x288 with 1 Axes>"
      ]
     },
     "metadata": {},
     "output_type": "display_data"
    },
    {
     "name": "stdout",
     "output_type": "stream",
     "text": [
      "<<END>> 7)Visualizing the Test set results <<END>>\n"
     ]
    }
   ],
   "source": [
    "print(\"<<START>> 7)Visualizing the Test set results <<START>>\")\n",
    "\n",
    "#**********Visualizing the Test set results**********\n",
    "X_set, y_set = X_test, y_test\n",
    "X1, X2 = np.meshgrid(np.arange(start = X_set[:, 0].min() - 1, stop = X_set[:, 0].max() + 1, step = 0.01),\n",
    "                     np.arange(start = X_set[:, 1].min() - 1, stop = X_set[:, 1].max() + 1, step = 0.01))\n",
    "plt.contourf(X1, X2, classifier.predict(np.array([X1.ravel(), X2.ravel()]).T).reshape(X1.shape),\n",
    "             alpha = 0.75, cmap = ListedColormap(('orange', 'white', 'green')))\n",
    "plt.xlim(X1.min(), X1.max())\n",
    "plt.ylim(X2.min(), X2.max())\n",
    "for i, j in enumerate(np.unique(y_set)):\n",
    "    plt.scatter(X_set[y_set == j, 0], X_set[y_set == j, 1],\n",
    "                c = ListedColormap(('red', 'blue', 'white'))(i), label = j)\n",
    "plt.title('Iris dataset (Test set) - SVM - Non-Linear Kernel')\n",
    "plt.xlabel('PC1')\n",
    "plt.ylabel('PC2')\n",
    "plt.legend()\n",
    "plt.show()\n",
    "\n",
    "print(\"<<END>> 7)Visualizing the Test set results <<END>>\")"
   ]
  },
  {
   "cell_type": "code",
   "execution_count": null,
   "metadata": {},
   "outputs": [],
   "source": []
  }
 ],
 "metadata": {
  "kernelspec": {
   "display_name": "Python 3",
   "language": "python",
   "name": "python3"
  },
  "language_info": {
   "codemirror_mode": {
    "name": "ipython",
    "version": 3
   },
   "file_extension": ".py",
   "mimetype": "text/x-python",
   "name": "python",
   "nbconvert_exporter": "python",
   "pygments_lexer": "ipython3",
   "version": "3.6.6"
  }
 },
 "nbformat": 4,
 "nbformat_minor": 2
}
