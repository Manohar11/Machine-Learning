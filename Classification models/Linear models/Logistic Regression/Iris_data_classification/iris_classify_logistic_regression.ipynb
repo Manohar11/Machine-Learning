{
 "cells": [
  {
   "cell_type": "code",
   "execution_count": 1,
   "metadata": {},
   "outputs": [
    {
     "name": "stdout",
     "output_type": "stream",
     "text": [
      "<<START>> 1)Data pre-processing step <<START>>\n",
      "<<START>> i)Import the necessary libraries <<START>>\n",
      "<<END>> Import the necessary libraries <<END>>\n",
      "<<START>> Import the dataset <<START>> \n",
      "<<END>> Import the dataset <<END>> \n",
      "<<END>> 1)Data pre-processing step <<END>>\n"
     ]
    }
   ],
   "source": [
    "#Data pre-processing\n",
    "\n",
    "print(\"<<START>> 1)Data pre-processing step <<START>>\")\n",
    "\n",
    "#**********Import the necessary libraries**********\n",
    "print(\"<<START>> i)Import the necessary libraries <<START>>\")\n",
    "import numpy as np\n",
    "import matplotlib.pyplot as plt\n",
    "import pandas as pd\n",
    "import warnings\n",
    "warnings.filterwarnings(\"ignore\")\n",
    "\n",
    "#**********Linear classification model - Logistic Regression**********\n",
    "from sklearn.linear_model import LogisticRegression\n",
    "print(\"<<END>> Import the necessary libraries <<END>>\")\n",
    "\n",
    "#**********Import the dataset**********\n",
    "from sklearn.datasets import load_iris\n",
    "print(\"<<START>> Import the dataset <<START>> \")\n",
    "dataset = load_iris()\n",
    "\n",
    "#**********Matrix of features - Independent variables**********\n",
    "X = dataset.data\n",
    "\n",
    "#**********Dependent variable**********\n",
    "y = dataset.target\n",
    "print(\"<<END>> Import the dataset <<END>> \")\n",
    "\n",
    "#**********Handling the missing values**********\n",
    "#dataset.isnull().any()\n",
    "\n",
    "#**********Encoding the categorical data**********\n",
    "#*** No categorical data\n",
    "\n",
    "#**********Splitting the dataset into the Training set and Test set**********\n",
    "from sklearn.model_selection import train_test_split\n",
    "\n",
    "X_train, X_test, y_train, y_test = train_test_split(X, y, test_size=0.25, random_state=0)\n",
    "\n",
    "#**********Feature scaling**********\n",
    "#*** Features scalled and some of the algorithms can handle internally\n",
    "\n",
    "print(\"<<END>> 1)Data pre-processing step <<END>>\")"
   ]
  },
  {
   "cell_type": "code",
   "execution_count": 2,
   "metadata": {},
   "outputs": [
    {
     "name": "stdout",
     "output_type": "stream",
     "text": [
      "<<START>> 2)Applying PCA step <<START>>\n",
      "PCA Explained variance = [0.92742408 0.05243402]\n",
      "<<END>> 2)Applying PCA step <<END>>\n"
     ]
    }
   ],
   "source": [
    "print(\"<<START>> 2)Applying PCA step <<START>>\")\n",
    "#**********Applying PCA**********\n",
    "from sklearn.decomposition import PCA\n",
    "pca = PCA(n_components = 2)\n",
    "X_train = pca.fit_transform(X_train)\n",
    "X_test = pca.transform(X_test)\n",
    "explained_variance = pca.explained_variance_ratio_\n",
    "print(\"PCA Explained variance =\", explained_variance)\n",
    "print(\"<<END>> 2)Applying PCA step <<END>>\")"
   ]
  },
  {
   "cell_type": "code",
   "execution_count": 3,
   "metadata": {},
   "outputs": [
    {
     "name": "stdout",
     "output_type": "stream",
     "text": [
      "<<START>> 3)Fitting machine learning model <<START>>\n",
      "Fitting the training dataset using 'Logistic Regression' model\n",
      "<<END>> 3)Fitting machine learning model <<END>>\n"
     ]
    }
   ],
   "source": [
    "print(\"<<START>> 3)Fitting machine learning model <<START>>\")\n",
    "#**********Fitting machine learning model to the Training set**********\n",
    "model = LogisticRegression(C = 1, solver=\"newton-cg\", multi_class=\"ovr\")\n",
    " \n",
    "print(\"Fitting the training dataset using '{}' model\".format(\"Logistic Regression\"))\n",
    "classifier = model\n",
    "classifier.fit(X_train, y_train)\n",
    "print(\"<<END>> 3)Fitting machine learning model <<END>>\")"
   ]
  },
  {
   "cell_type": "code",
   "execution_count": 4,
   "metadata": {},
   "outputs": [
    {
     "name": "stdout",
     "output_type": "stream",
     "text": [
      "<<START>> 4)Evaluating model performance <<START>>\n",
      "Confusion matrix [[13  0  0]\n",
      " [ 0 12  4]\n",
      " [ 0  0  9]]\n",
      "             precision    recall  f1-score   support\n",
      "\n",
      "     setosa       1.00      1.00      1.00        13\n",
      " versicolor       1.00      0.75      0.86        16\n",
      "  virginica       0.69      1.00      0.82         9\n",
      "\n",
      "avg / total       0.93      0.89      0.90        38\n",
      "\n",
      "<<END>> 4)Evaluating model performance <<END>>\n"
     ]
    }
   ],
   "source": [
    "#**********Predicting the Test set results**********\n",
    "print(\"<<START>> 4)Evaluating model performance <<START>>\")\n",
    "y_pred = classifier.predict(X_test)\n",
    "\n",
    "#**********Making the Confusion Matrix**********\n",
    "from sklearn.metrics import confusion_matrix\n",
    "cm = confusion_matrix(y_test, y_pred)\n",
    "print(\"Confusion matrix\",cm)\n",
    "\n",
    "#**********Retrieving classification report**********\n",
    "from sklearn.metrics import classification_report\n",
    "print(classification_report(y_test, y_pred,target_names=dataset.target_names))\n",
    "print(\"<<END>> 4)Evaluating model performance <<END>>\")"
   ]
  },
  {
   "cell_type": "code",
   "execution_count": 5,
   "metadata": {},
   "outputs": [
    {
     "name": "stdout",
     "output_type": "stream",
     "text": [
      "<<START>> 5)Applying k-Fold Cross Validation <<START>>\n",
      "K-Fold cross validation accuracy mean =  0.9266666666666667\n",
      "K-Fold cross validation accuracy std =  0.06920179830675563\n",
      "<<END>> 5)Applying k-Fold Cross Validation <<END>>\n"
     ]
    }
   ],
   "source": [
    "print(\"<<START>> 5)Applying k-Fold Cross Validation <<START>>\")\n",
    "#**********Applying k-Fold Cross Validation**********\n",
    "from sklearn.model_selection import cross_val_score\n",
    "accuracies = cross_val_score(estimator = classifier, X = X_train, y = y_train, cv = 10)\n",
    "print(\"K-Fold cross validation accuracy mean = \",accuracies.mean())\n",
    "print(\"K-Fold cross validation accuracy std = \",accuracies.std())\n",
    "print(\"<<END>> 5)Applying k-Fold Cross Validation <<END>>\")"
   ]
  },
  {
   "cell_type": "code",
   "execution_count": 6,
   "metadata": {},
   "outputs": [
    {
     "name": "stdout",
     "output_type": "stream",
     "text": [
      "<<START>> 6)Applying Grid Search <<START>>\n",
      "Best accuracy =  0.9642857142857143\n",
      "Best parameters =  {'C': 10, 'solver': 'newton-cg'}\n",
      "<<END>> 6)Applying Grid Search <<END>>\n"
     ]
    }
   ],
   "source": [
    "print(\"<<START>> 6)Applying Grid Search <<START>>\")\n",
    "#**********Applying Grid Search to find the best model and the best parameters**********\n",
    "from sklearn.model_selection import GridSearchCV\n",
    "warnings.filterwarnings(\"ignore\")\n",
    "parameters = [{'C': [0.1, 1, 10, 100, 1000], 'solver': ['newton-cg', 'lbfgs', 'liblinear', 'sag', 'saga']}]\n",
    "grid_search = GridSearchCV(estimator = classifier,\n",
    "                           param_grid = parameters,\n",
    "                           scoring = 'accuracy',\n",
    "                           cv = 10)\t\t\t\t\t   \n",
    "grid_search = grid_search.fit(X_train, y_train)\n",
    "best_accuracy = grid_search.best_score_\n",
    "print(\"Best accuracy = \", best_accuracy)\n",
    "best_parameters = grid_search.best_params_\n",
    "print(\"Best parameters = \", best_parameters)\n",
    "print(\"<<END>> 6)Applying Grid Search <<END>>\")"
   ]
  },
  {
   "cell_type": "code",
   "execution_count": 7,
   "metadata": {},
   "outputs": [
    {
     "name": "stdout",
     "output_type": "stream",
     "text": [
      "<<START>> 7)Visualizing the Test set results <<START>>\n"
     ]
    },
    {
     "data": {
      "image/png": "[encoded data removed]",
      "text/plain": [
       "<Figure size 432x288 with 1 Axes>"
      ]
     },
     "metadata": {},
     "output_type": "display_data"
    },
    {
     "name": "stdout",
     "output_type": "stream",
     "text": [
      "<<END>> 7)Visualizing the Test set results <<END>>\n"
     ]
    }
   ],
   "source": [
    "print(\"<<START>> 7)Visualizing the Test set results <<START>>\")\n",
    "#**********Visualizing the Test set results**********\n",
    "from matplotlib.colors import ListedColormap\n",
    "X_set, y_set = X_test, y_test\n",
    "X1, X2 = np.meshgrid(np.arange(start = X_set[:, 0].min() - 1, stop = X_set[:, 0].max() + 1, step = 0.01),\n",
    "                     np.arange(start = X_set[:, 1].min() - 1, stop = X_set[:, 1].max() + 1, step = 0.01))\n",
    "plt.contourf(X1, X2, classifier.predict(np.array([X1.ravel(), X2.ravel()]).T).reshape(X1.shape),\n",
    "             alpha = 0.75, cmap = ListedColormap(('red', 'green', 'blue')))\n",
    "plt.xlim(X1.min(), X1.max())\n",
    "plt.ylim(X2.min(), X2.max())\n",
    "for i, j in enumerate(np.unique(y_set)):\n",
    "    plt.scatter(X_set[y_set == j, 0], X_set[y_set == j, 1],\n",
    "                c = ListedColormap(('red', 'green', 'blue'))(i), label = j)\n",
    "plt.title('Iris dataset (Test set)')\n",
    "plt.xlabel('PC1')\n",
    "plt.ylabel('PC2')\n",
    "plt.legend()\n",
    "plt.show()\n",
    "print(\"<<END>> 7)Visualizing the Test set results <<END>>\")"
   ]
  },
  {
   "cell_type": "code",
   "execution_count": 8,
   "metadata": {},
   "outputs": [
    {
     "name": "stdout",
     "output_type": "stream",
     "text": [
      "<<START>> 8)Visualizing the Training set results <<START>>\n"
     ]
    },
    {
     "data": {
      "image/png": "[encoded data removed]",
      "text/plain": [
       "<Figure size 432x288 with 1 Axes>"
      ]
     },
     "metadata": {},
     "output_type": "display_data"
    },
    {
     "name": "stdout",
     "output_type": "stream",
     "text": [
      "<<END>> 8)Visualizing the Training set results <<END>>\n"
     ]
    }
   ],
   "source": [
    "print(\"<<START>> 8)Visualizing the Training set results <<START>>\")\n",
    "#**********Visualizing the Training set results**********\n",
    "from matplotlib.colors import ListedColormap\n",
    "X_set, y_set = X_train, y_train\n",
    "X1, X2 = np.meshgrid(np.arange(start = X_set[:, 0].min() - 1, stop = X_set[:, 0].max() + 1, step = 0.01),\n",
    "                     np.arange(start = X_set[:, 1].min() - 1, stop = X_set[:, 1].max() + 1, step = 0.01))\n",
    "plt.contourf(X1, X2, classifier.predict(np.array([X1.ravel(), X2.ravel()]).T).reshape(X1.shape),\n",
    "             alpha = 0.75, cmap = ListedColormap(('red', 'green', 'blue')))\n",
    "plt.xlim(X1.min(), X1.max())\n",
    "plt.ylim(X2.min(), X2.max())\n",
    "for i, j in enumerate(np.unique(y_set)):\n",
    "    plt.scatter(X_set[y_set == j, 0], X_set[y_set == j, 1],\n",
    "                c = ListedColormap(('red', 'green', 'blue'))(i), label = j)\n",
    "plt.title('Iris dataset (Training set)')\n",
    "plt.xlabel('PC1')\n",
    "plt.ylabel('PC2')\n",
    "plt.legend()\n",
    "plt.show()\n",
    "print(\"<<END>> 8)Visualizing the Training set results <<END>>\")"
   ]
  },
  {
   "cell_type": "code",
   "execution_count": null,
   "metadata": {},
   "outputs": [],
   "source": []
  },
  {
   "cell_type": "code",
   "execution_count": null,
   "metadata": {},
   "outputs": [],
   "source": []
  }
 ],
 "metadata": {
  "kernelspec": {
   "display_name": "Python 3",
   "language": "python",
   "name": "python3"
  },
  "language_info": {
   "codemirror_mode": {
    "name": "ipython",
    "version": 3
   },
   "file_extension": ".py",
   "mimetype": "text/x-python",
   "name": "python",
   "nbconvert_exporter": "python",
   "pygments_lexer": "ipython3",
   "version": "3.6.6"
  }
 },
 "nbformat": 4,
 "nbformat_minor": 2
}
